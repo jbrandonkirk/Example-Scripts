{
 "cells": [
  {
   "cell_type": "code",
   "execution_count": null,
   "id": "d8ec18fc-2236-4599-87fa-27de5395f909",
   "metadata": {},
   "outputs": [
    {
     "name": "stderr",
     "output_type": "stream",
     "text": [
      "\u001b[0;31m[<class 'saspy.sasexceptions.SASIOConnectionError'>, SASIOConnectionError('No SAS process attached. SAS process has terminated unexpectedly.'), <traceback object at 0x7f82a8bda640>]\n",
      "\u001b[0m"
     ]
    },
    {
     "name": "stdout",
     "output_type": "stream",
     "text": [
      "SAS Connection failed. No connection established. Double check your settings in sascfg_personal.py file.\n",
      "Attempted to run program /opt/sasinside/SASHome/SASFoundation/9.4/bin/sas_u8 with the following parameters:['/opt/sasinside/SASHome/SASFoundation/9.4/bin/sas_u8', '-nodms', '-stdio', '-terminal', '-nosyntaxcheck', '-pagesize', 'MAX', '']\n",
      "Try running the following command (where saspy is running) manually to see if you can get more information on what went wrong:\n",
      "/opt/sasinside/SASHome/SASFoundation/9.4/bin/sas_u8 -nodms -stdio -terminal -nosyntaxcheck -pagesize MAX  \n",
      "\n",
      "No SAS process attached. SAS process has terminated unexpectedly.\n",
      "Invalid response from SAS on inital submission. printing the SASLOG as diagnostic\n",
      "\n"
     ]
    }
   ],
   "source": [
    "options validvarname=any;\n"
   ]
  },
  {
   "cell_type": "markdown",
   "id": "cfd58229-16a7-4077-9553-656361038d1b",
   "metadata": {},
   "source": [
    "## Start\n",
    "Pull data from census.gov : https://www.census.gov/data/developers/data-sets/economic-indicators.html"
   ]
  },
  {
   "cell_type": "code",
   "execution_count": null,
   "id": "0638eebe-ea80-4fdb-972e-f1b2046a15ad",
   "metadata": {},
   "outputs": [],
   "source": [
    "filename resjson temp;\n",
    "\n",
    "proc http\n",
    "    url='https://api.census.gov/data/timeseries/eits/resconst?get=cell_value,data_type_code,time_slot_id,error_data,category_code,geo_level_code,seasonally_adj,time_slot_name&time=from+2010'\n",
    "    method='GET'\n",
    "    out=resjson;\n",
    "run;"
   ]
  },
  {
   "cell_type": "markdown",
   "id": "4c05da3c-3f64-4d36-9bbd-41e89575ca8b",
   "metadata": {},
   "source": [
    "Assign a JSON library to the HTTP response"
   ]
  },
  {
   "cell_type": "code",
   "execution_count": null,
   "id": "eb1c3730-96b7-47c2-800d-ba2246f1c197",
   "metadata": {},
   "outputs": [],
   "source": [
    "libname res_data JSON fileref=resjson;\n",
    "\n",
    "data temp;\n",
    "  set res_data.root;\n",
    "where element1 ^= 'cell_value';\n",
    "run;\n"
   ]
  },
  {
   "cell_type": "markdown",
   "id": "f0c47e0b-5b91-4cbf-a241-6d9fb9b31a71",
   "metadata": {},
   "source": [
    "Transform some of the data items"
   ]
  },
  {
   "cell_type": "code",
   "execution_count": null,
   "id": "ad74c231-6284-4f6c-9d9a-bc31418398d9",
   "metadata": {},
   "outputs": [],
   "source": [
    "\n",
    "data housing;\n",
    "  set temp (RENAME= (element2=data_type_code element3=time_slot_id element4=error_data\n",
    "element5=category_code element6=geo_level_code element7=seasonally_adj element8=time_slot_name element9=time)\n",
    ");\n",
    "length cell_value 8.;\n",
    "cell_value = input(element1,comma9.);\n",
    "run;"
   ]
  },
  {
   "cell_type": "markdown",
   "id": "b64ddb17-4cf2-450d-8ef3-e73ea6da1ea2",
   "metadata": {},
   "source": [
    "What does the data look like?"
   ]
  },
  {
   "cell_type": "code",
   "execution_count": null,
   "id": "b52ebf0e-3f52-412d-8ea8-5e594336c613",
   "metadata": {},
   "outputs": [],
   "source": [
    "proc contents data=housing; run;"
   ]
  },
  {
   "cell_type": "markdown",
   "id": "58bd8253-f47a-4ac9-8b72-a1c92f4eb4e5",
   "metadata": {},
   "source": [
    "Copy into cas"
   ]
  },
  {
   "cell_type": "code",
   "execution_count": null,
   "id": "cdfcb542-965e-40c5-bfc7-cb5479379e5f",
   "metadata": {},
   "outputs": [],
   "source": [
    "cas;\n",
    "caslib _all_ assign;\n",
    "\n",
    "proc casutil incaslib=\"Public\" outcaslib=\"Public\";\n",
    "\n",
    "    droptable casdata=\"housing\" quiet;\n",
    "    load data=work.housing casout=\"housing\" promote;\n",
    "    save casdata=\"housing\" casout=\"housing\" replace;\n",
    "run;"
   ]
  }
 ],
 "metadata": {
  "kernelspec": {
   "display_name": "SAS",
   "language": "sas",
   "name": "sas"
  },
  "language_info": {
   "codemirror_mode": "sas",
   "file_extension": ".sas",
   "mimetype": "text/x-sas",
   "name": "sas"
  }
 },
 "nbformat": 4,
 "nbformat_minor": 5
}
